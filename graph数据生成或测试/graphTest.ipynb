{
 "cells": [
  {
   "cell_type": "code",
   "execution_count": 1,
   "metadata": {},
   "outputs": [],
   "source": [
    "from py2neo import Graph\n",
    "\n",
    "url = 'localhost:7474'\n",
    "username = 'neo4j'\n",
    "password = 'neo4j'\n",
    "graph = Graph(url, username=username, password=password)"
   ]
  },
  {
   "cell_type": "code",
   "execution_count": 13,
   "metadata": {},
   "outputs": [],
   "source": [
    "def networkSearch(value):\n",
    "    return {\n",
    "        'colleague': graph.run(\"match (s:`person`)-[p:`COLLEAGUE_OF`]-(o:`person`) where s.personID= '{}' return o.name,o.personID, o.status, o.flag\".format(value)).data(),\n",
    "        'acknowledge':graph.run(\"match (s:`person`)-[p:`ACKNOWLEDGE`]-(o:`person`) where s.personID= '{}' return o.name,o.personID, o.status, o.flag\".format(value)).data(),\n",
    "        'parent':graph.run(\"match (s:`person`)-[p:`PARENT_OF`]-(o:`person`) where s.personID= '{}' return o.name,o.personID, o.status, o.flag\".format(value)).data(),\n",
    "    }\n",
    "def userInfo(value):\n",
    "    try:\n",
    "        rt = graph.run(\"match (s:`person`) where s.personID= '{}' return s.flag,s.status\".format(value)).data()\n",
    "        return (rt[0]['s.flag'],rt[0]['s.status'])\n",
    "    except:\n",
    "        return -1\n",
    "\n",
    "def network1FlagNum(value):\n",
    "    return len(graph.run(\"match (s:`person`)-[p]-(o:`person`) where type(p) in ['PARENT_OF','ACKNOWLEDGE','COLLEAGUE_OF'] and o.flag='1' and s.personID= '{}' return o.personID\".format(value)).data())\n",
    "\n",
    "def network2FlagNum(value):\n",
    "    return len(graph.run(\"match (s:`person`)-[p]-(:`person`)-[q]-(o:`person`) where type(p) in ['PARENT_OF','ACKNOWLEDGE','COLLEAGUE_OF'] and type(q) in ['PARENT_OF','ACKNOWLEDGE','COLLEAGUE_OF'] and o.flag='1' and s.personID= '{}' return o.personID\".format(value)).data())\n",
    "\n",
    "def userPhoneNum(value):\n",
    "    return len(graph.run(\"match (s:`person`)-[p:`ownPhone`]-(o:`phone`) where s.personID= '{}' return o.phone\".format(value)).data())\n",
    "\n",
    "def userRmtNum(value):\n",
    "    # 交易金额大于4000才计数\n",
    "#     try: \n",
    "#         cache = graph.run(\"match (s:`person`)-[p:`remittance`]-(o:`person`) where s.personID= '{}' return p.amount\".format(value)).data()\n",
    "#         return len([i['p.amount'] for i in cache if int(i['p.amount'])>=4000])\n",
    "#     except:\n",
    "#         return -1\n",
    "    return len(graph.run(\"match (s:`person`)-[p:`remittance`]-(o:`person`) where s.personID= '{}' and toInt(p.amount)>=4000 return p.amount\".format(value)).data())\n",
    "\n",
    "def userTxConditionNum(value):\n",
    "    defaultNum = len(graph.run(\"match (s:`person`)-[p:`apply`]-(o:`transaction`) where o.status='OVER_DUE' and s.personID= '{}' return o.status\".format(value)).data())\n",
    "    clearNum = len(graph.run(\"match (s:`person`)-[p:`apply`]-(o:`transaction`) where o.status='CLEAR' and s.personID= '{}' return o.status\".format(value)).data())\n",
    "    rejectedNum = len(graph.run(\"match (s:`person`)-[p:`apply`]-(o:`transaction`) where o.status='REJECT' and s.personID= '{}' return o.status\".format(value)).data())\n",
    "    return defaultNum,clearNum,rejectedNum"
   ]
  },
  {
   "cell_type": "code",
   "execution_count": 14,
   "metadata": {},
   "outputs": [
    {
     "data": {
      "text/plain": [
       "{'是否在黑名单': 0,\n",
       " '历史用户评分': 'AA',\n",
       " '一层关系黑户数': 0,\n",
       " '二层关系黑户数': 0,\n",
       " '持有手机数': 1,\n",
       " '大额转账数': 7,\n",
       " '违约贷款数': 1,\n",
       " '完结贷款数': 1,\n",
       " '被拒贷款数': 0}"
      ]
     },
     "execution_count": 14,
     "metadata": {},
     "output_type": "execute_result"
    }
   ],
   "source": [
    "# neo4j统计得到的额外数据\n",
    "def statExData(value):\n",
    "    try:\n",
    "        i = userInfo(value=value)\n",
    "        c1,c2,c3 = userTxConditionNum(value=value)\n",
    "        return {\n",
    "        '是否在黑名单':i[0],\n",
    "        '历史用户评分':i[1],\n",
    "        '一层关系黑户数':network1FlagNum(value=value),\n",
    "        '二层关系黑户数':network2FlagNum(value=value),\n",
    "        '持有手机数':userPhoneNum(value=value),\n",
    "        '大额转账数':userRmtNum(value=value),\n",
    "        '违约贷款数':c1,\n",
    "        '完结贷款数':c2,\n",
    "        '被拒贷款数':c3,\n",
    "        }\n",
    "    except:\n",
    "        return -1\n",
    "statExData(value='person_1')"
   ]
  },
  {
   "cell_type": "code",
   "execution_count": 4,
   "metadata": {},
   "outputs": [
    {
     "data": {
      "text/plain": [
       "{'rels': {'colleague': [{'o.name': 'name_7',\n",
       "    'o.personID': 'person_7',\n",
       "    'o.status': 'A',\n",
       "    'o.flag': '0',\n",
       "    'rels': {'colleague': [{'o.name': 'name_1',\n",
       "       'o.personID': 'person_1',\n",
       "       'o.status': 'AA',\n",
       "       'o.flag': 0}],\n",
       "     'acknowledge': [{'o.name': 'name_11',\n",
       "       'o.personID': 'person_11',\n",
       "       'o.status': 'AA',\n",
       "       'o.flag': '0'}],\n",
       "     'parent': [{'o.name': 'name_8',\n",
       "       'o.personID': 'person_8',\n",
       "       'o.status': 'B',\n",
       "       'o.flag': '0'}]}},\n",
       "   {'o.name': 'name_2',\n",
       "    'o.personID': 'person_2',\n",
       "    'o.status': 'A',\n",
       "    'o.flag': '0',\n",
       "    'rels': {'colleague': [{'o.name': 'name_1',\n",
       "       'o.personID': 'person_1',\n",
       "       'o.status': 'AA',\n",
       "       'o.flag': 0}],\n",
       "     'acknowledge': [{'o.name': 'name_3',\n",
       "       'o.personID': 'person_3',\n",
       "       'o.status': 'A',\n",
       "       'o.flag': '0'}],\n",
       "     'parent': []}}],\n",
       "  'acknowledge': [{'o.name': 'name_20',\n",
       "    'o.personID': 'person_20',\n",
       "    'o.status': 'A',\n",
       "    'o.flag': '0',\n",
       "    'rels': {'colleague': [{'o.name': 'name_18',\n",
       "       'o.personID': 'person_18',\n",
       "       'o.status': 'C',\n",
       "       'o.flag': '0'},\n",
       "      {'o.name': 'name_17',\n",
       "       'o.personID': 'person_17',\n",
       "       'o.status': 'AA',\n",
       "       'o.flag': '0'}],\n",
       "     'acknowledge': [{'o.name': 'name_1',\n",
       "       'o.personID': 'person_1',\n",
       "       'o.status': 'AA',\n",
       "       'o.flag': 0}],\n",
       "     'parent': []}},\n",
       "   {'o.name': 'name_10',\n",
       "    'o.personID': 'person_10',\n",
       "    'o.status': 'A',\n",
       "    'o.flag': '0',\n",
       "    'rels': {'colleague': [{'o.name': 'name_13',\n",
       "       'o.personID': 'person_13',\n",
       "       'o.status': 'A',\n",
       "       'o.flag': '0'}],\n",
       "     'acknowledge': [{'o.name': 'name_8',\n",
       "       'o.personID': 'person_8',\n",
       "       'o.status': 'B',\n",
       "       'o.flag': '0'},\n",
       "      {'o.name': 'name_6',\n",
       "       'o.personID': 'person_6',\n",
       "       'o.status': 'AA',\n",
       "       'o.flag': '0'},\n",
       "      {'o.name': 'name_5',\n",
       "       'o.personID': 'person_5',\n",
       "       'o.status': 'C',\n",
       "       'o.flag': '0'},\n",
       "      {'o.name': 'name_1',\n",
       "       'o.personID': 'person_1',\n",
       "       'o.status': 'AA',\n",
       "       'o.flag': 0}],\n",
       "     'parent': []}}],\n",
       "  'parent': [{'o.name': 'name_4',\n",
       "    'o.personID': 'person_4',\n",
       "    'o.status': 'AA',\n",
       "    'o.flag': '0',\n",
       "    'rels': {'colleague': [],\n",
       "     'acknowledge': [],\n",
       "     'parent': [{'o.name': 'name_5',\n",
       "       'o.personID': 'person_5',\n",
       "       'o.status': 'C',\n",
       "       'o.flag': '0'},\n",
       "      {'o.name': 'name_1',\n",
       "       'o.personID': 'person_1',\n",
       "       'o.status': 'AA',\n",
       "       'o.flag': 0}]}}]},\n",
       " 'user': [{'s.name': 'name_1',\n",
       "   's.personID': 'person_1',\n",
       "   's.status': 'AA',\n",
       "   's.flag': 0}]}"
      ]
     },
     "execution_count": 4,
     "metadata": {},
     "output_type": "execute_result"
    }
   ],
   "source": [
    "value = 'person_1'\n",
    "def userRel(value):\n",
    "    userEntity = graph.run(\"match (s:`person`) where s.personID= '{}' return s.name, s.personID, s.status, s.flag\".format(value)).data()\n",
    "    if len(userEntity) >0:\n",
    "        rt = {}\n",
    "        rt['rels'] = networkSearch(value)\n",
    "        rt['user'] = userEntity\n",
    "        relTypes = list(rt['rels'].keys())\n",
    "        for relType in relTypes:\n",
    "            for O in rt['rels'][relType]:\n",
    "                O['rels'] = networkSearch(value=O['o.personID'])\n",
    "        return rt\n",
    "    else: return -1\n",
    "userRel(value)"
   ]
  },
  {
   "cell_type": "code",
   "execution_count": 7,
   "metadata": {},
   "outputs": [
    {
     "data": {
      "text/plain": [
       "{'user': [{'s.name': 'name_1',\n",
       "   's.personID': 'person_1',\n",
       "   's.status': 'AA',\n",
       "   's.flag': 0}],\n",
       " 'ownPhone': [{'o.number': 'num_2', 'o.phone': 'phone_2', 'o.flag': '0'}]}"
      ]
     },
     "execution_count": 7,
     "metadata": {},
     "output_type": "execute_result"
    }
   ],
   "source": [
    "def userPhone(value):\n",
    "    userEntity = graph.run(\"match (s:`person`) where s.personID= '{}' return s.name, s.personID, s.status, s.flag\".format(value)).data()\n",
    "    if len(userEntity) >0:\n",
    "        rt = {}\n",
    "        rt['user'] = userEntity\n",
    "        rt['ownPhone'] = graph.run(\"match (s:`person`)-[p:`ownPhone`]-(o:`phone`) where s.personID= '{}' return o.number,o.phone,o.flag\".format(value)).data()\n",
    "        return rt\n",
    "    else: return -1\n",
    "userPhone(value)"
   ]
  },
  {
   "cell_type": "code",
   "execution_count": 8,
   "metadata": {},
   "outputs": [
    {
     "data": {
      "text/plain": [
       "{'user': [{'s.name': 'name_1',\n",
       "   's.personID': 'person_1',\n",
       "   's.status': 'AA',\n",
       "   's.flag': 0}],\n",
       " 'apply': [{'o.txID': 'tx_2', 'o.status': 'OVER_DUE'},\n",
       "  {'o.txID': 'tx_1', 'o.status': 'CLEAR'}]}"
      ]
     },
     "execution_count": 8,
     "metadata": {},
     "output_type": "execute_result"
    }
   ],
   "source": [
    "def userTx(value):\n",
    "    userEntity = graph.run(\"match (s:`person`) where s.personID= '{}' return s.name, s.personID, s.status, s.flag\".format(value)).data()\n",
    "    if len(userEntity) >0:\n",
    "        rt = {}\n",
    "        rt['user'] = userEntity\n",
    "        rt['apply'] = graph.run(\"match (s:`person`)-[p:`apply`]-(o:`transaction`) where s.personID= '{}' return o.txID,o.status\".format(value)).data()\n",
    "        return rt\n",
    "    else: return -1\n",
    "userTx(value)"
   ]
  },
  {
   "cell_type": "code",
   "execution_count": 20,
   "metadata": {},
   "outputs": [
    {
     "name": "stdout",
     "output_type": "stream",
     "text": [
      "[{'s.name': 'name_1', 's.personID': 'person_1', 's.status': 'AA', 's.flag': '0'}]\n",
      "[{'o.name': 'name_7', 'o.personID': 'person_7', 'o.status': 'A', 'o.flag': '0'}, {'o.name': 'name_2', 'o.personID': 'person_2', 'o.status': 'A', 'o.flag': '0'}]\n",
      "[{'o.name': 'name_20', 'o.personID': 'person_20', 'o.status': 'A', 'o.flag': '0'}, {'o.name': 'name_10', 'o.personID': 'person_10', 'o.status': 'A', 'o.flag': '0'}]\n",
      "[{'o.name': 'name_4', 'o.personID': 'person_4', 'o.status': 'AA', 'o.flag': '0'}]\n"
     ]
    }
   ],
   "source": [
    "value = 'person_1'\n",
    "userEntity = graph.run(\"match (s) where s.personID= '{}' return s.name, s.personID, s.status, s.flag\".format(value)).data()\n",
    "colleagueRels = graph.run(\"match (s)-[p:`COLLEAGUE_OF`]-(o) where s.personID= '{}' return o.name,o.personID, o.status, o.flag\".format(value)).data()\n",
    "friendRels = graph.run(\"match (s)-[p:`FRIEND_OF`]-(o) where s.personID= '{}' return o.name,o.personID, o.status, o.flag\".format(value)).data()\n",
    "parentRels = graph.run(\"match (s)-[p:`PARENT_OF`]-(o) where s.personID= '{}' return o.name,o.personID, o.status, o.flag\".format(value)).data()\n",
    "\n",
    "print(userEntity)\n",
    "print(colleagueRels)\n",
    "print(friendRels)\n",
    "print(parentRels)"
   ]
  },
  {
   "cell_type": "code",
   "execution_count": 154,
   "metadata": {},
   "outputs": [
    {
     "data": {
      "text/plain": [
       "-1"
      ]
     },
     "execution_count": 154,
     "metadata": {},
     "output_type": "execute_result"
    }
   ],
   "source": [
    "# remittanceRels:\n",
    "value = 'person_1'\n",
    "\n",
    "userEntity = graph.run(\"match (s:`person`) where s.personID= '{}' return s.name, s.personID, s.status, s.flag\".format(value)).data()\n",
    "\n",
    "def remittanceAly(value):\n",
    "    remittanceRels = graph.run(\"match (s:`person`)-[p:`remittance`]-(o:`person`) where s.personID= '{}' return p.amount, o.personID\".format(value)).data()\n",
    "    if len(remittanceRels)>0:\n",
    "        ackUsers = {}\n",
    "        for rmt in remittanceRels:\n",
    "            r = 1 if int(rmt['p.amount'])<=10000 else 2\n",
    "            if rmt['o.personID'] not in ackUsers:\n",
    "                ackUsers[rmt['o.personID']] = r\n",
    "            else:\n",
    "                ackUsers[rmt['o.personID']] += r\n",
    "\n",
    "        ackUsers = [user for user in ackUsers if ackUsers[user]>1]\n",
    "        # 最后需要建立关系的id!\n",
    "        ackUsers = [user for user in ackUsers if \n",
    "            # 避免重复建立关系\n",
    "            len(\n",
    "                graph.run(\"match (s:`person`)-[p]-(o:`person`) where type(p) in ['PARENT_OF','ACKNOWLEDGE','COLLEAGUE_OF'] and s.personID= '{}' and o.personID='{}' return type(p)\"\n",
    "                          .format(value,user)).data())\n",
    "                    ==0]\n",
    "        if len(ackUsers)>0: return ackUsers\n",
    "        else:return -1\n",
    "    else: return -1\n",
    "\n",
    "remittanceAly(value='person_1')"
   ]
  },
  {
   "cell_type": "code",
   "execution_count": 151,
   "metadata": {},
   "outputs": [
    {
     "data": {
      "text/plain": [
       "['person_3']"
      ]
     },
     "execution_count": 151,
     "metadata": {},
     "output_type": "execute_result"
    }
   ],
   "source": [
    "value = 'person_1'\n",
    "def callAly(value):\n",
    "    '''\n",
    "       流程：\n",
    "       先得到该personID所持有的所有phone的ID\n",
    "       查询与该phone有联系的所有phone的ID\n",
    "       对满足通话次数阈值的phone查询其所有者(user)的ID\n",
    "       对满足关系但是未建立关系的两个user进行记录并返回\n",
    "    '''\n",
    "    ownPhone = [i['o.phone'] for i in \n",
    "                graph.run(\"match (s:`person`)-[p:`ownPhone`]-(o:`phone`) where s.personID= '{}' return o.phone\".format(value))\n",
    "                .data()]\n",
    "    if len(ownPhone)>0:\n",
    "        for phoneID in ownPhone:\n",
    "            # get phone rel\n",
    "            callRels = graph.run(\"match (s:`phone`)-[p:`call`]-(o:`phone`) where s.phone= '{}' return o.phone\".format(phoneID)).data()\n",
    "            ackPhone = {}\n",
    "            if len(callRels)>0:\n",
    "                for call in callRels:\n",
    "                    if call['o.phone'] not in ackPhone:\n",
    "                        ackPhone[call['o.phone']] = 1\n",
    "                    else: ackPhone[call['o.phone']] += 1\n",
    "                # 根据通话次数进行筛选\n",
    "                ackPhone = [phone for phone in ackPhone if ackPhone[phone]>1]\n",
    "            \n",
    "                # ackPhone = ['phone_38', 'phone_35', 'phone_14', 'phone_9', 'phone_5'] # for test\n",
    "                # phone -> owner\n",
    "                if len(ackPhone)>0:\n",
    "                    ackUsers = []\n",
    "                    for phoneID in ackPhone:\n",
    "                    \n",
    "                        for i in graph.run(\"match (s:`person`)-[p:`ownPhone`]-(o:`phone`) where o.phone= '{}' return s.personID\".format(phoneID)).data():\n",
    "                            # 避免重复建立关系\n",
    "                            if len(\n",
    "                                graph.run(\"match (s:`person`)-[p]-(o:`person`) where type(p) in ['PARENT_OF','ACKNOWLEDGE','COLLEAGUE_OF'] and s.personID= '{}' and o.personID='{}' return type(p)\"\n",
    "                                  .format(value,i['s.personID'])).data()\n",
    "                                )==0:\n",
    "                                ackUsers.append(\n",
    "                                    i['s.personID']\n",
    "                                )\n",
    "                    return ackUsers\n",
    "                else: return -1        \n",
    "            else: return -1\n",
    "    else: return -1\n",
    "callAly(value)"
   ]
  },
  {
   "cell_type": "code",
   "execution_count": 163,
   "metadata": {},
   "outputs": [],
   "source": [
    "def getAllUsers():\n",
    "    users = graph.run(\"match (s:`person`)  return s.personID\").data()\n",
    "    return [i['s.personID'] for i in users]"
   ]
  },
  {
   "cell_type": "code",
   "execution_count": 188,
   "metadata": {},
   "outputs": [
    {
     "data": {
      "text/plain": [
       "1"
      ]
     },
     "execution_count": 188,
     "metadata": {},
     "output_type": "execute_result"
    }
   ],
   "source": [
    "userlist = ['person_1','person_10']\n",
    "def digRel(userlist):\n",
    "    for userID in userlist:\n",
    "        userEntity = graph.run(\"match (s:`person`) where s.personID= '{}' return s.personID\".format(value)).data()\n",
    "        if len(userEntity)>0:\n",
    "            unrels = []\n",
    "            rmtRels = remittanceAly(value = value)\n",
    "            callRels = callAly(value = value)\n",
    "    \n",
    "            if  rmtRels != -1:\n",
    "                unrels += rmtRels\n",
    "            if callRels != -1:\n",
    "                unrels += callRels\n",
    "            unrels = set(unrels)\n",
    "            for userID in unrels:\n",
    "                graph.run(\"match (s:`person`{personID:'\" + value +\"'}),(o:`person`{personID:'\" + userID +\"'}) merge (s)-[:ACKNOWLEDGE]->(o)\")\n",
    "            return 1\n",
    "        else: return -1\n",
    "digRel(userlist)"
   ]
  },
  {
   "cell_type": "code",
   "execution_count": 180,
   "metadata": {},
   "outputs": [],
   "source": [
    "value = 'person_1'\n",
    "userID = 'person_10'"
   ]
  },
  {
   "cell_type": "code",
   "execution_count": 186,
   "metadata": {},
   "outputs": [
    {
     "data": {
      "text/plain": [
       "\"match (s:`person`{personID='person_1'}),(o:`person`{personID='person_10'}) merge (s)-[:ACKNOWLEDGE]->(o)\""
      ]
     },
     "execution_count": 186,
     "metadata": {},
     "output_type": "execute_result"
    }
   ],
   "source": [
    "\n",
    "\"match (s:`person`{personID='\" + value +\"'}),(o:`person`{personID='\" + userID +\"'}) merge (s)-[:ACKNOWLEDGE]->(o)\"\n",
    "\n"
   ]
  },
  {
   "cell_type": "code",
   "execution_count": 233,
   "metadata": {},
   "outputs": [
    {
     "data": {
      "text/plain": [
       "1"
      ]
     },
     "execution_count": 233,
     "metadata": {},
     "output_type": "execute_result"
    }
   ],
   "source": [
    "value1 = 'person_1'\n",
    "value2 = 'person_6'\n",
    "\n",
    "def createRmt(value1,value2,amount):\n",
    "    if str(type(amount)) == \"<class 'int'>\"  and amount > 0:\n",
    "        if len(graph.run(\"match(a:person{personID:'\"+value1+\"'}),(b:person{personID:'\"+value2+\"'})return a,b\").data())>0:\n",
    "            graph.run(\"match (s:`person`{personID:'\" + value1 +\"'}),(o:`person`{personID:'\" + value2 +\"'}) merge (s)-[:remittance{amount:'\"+ str(amount)+\"'}]->(o) return 1\")\n",
    "            return 1\n",
    "        else:return -1\n",
    "    else:return -1\n",
    "    \n",
    "def createCall(value1,value2):\n",
    "    if len(graph.run(\"match(a:person{personID:'\"+value1+\"'}),(b:person{personID:'\"+value2+\"'})return a,b\").data())>0:\n",
    "        graph.run(\"match (s:`person`{personID:'\" + value1 +\"'}),(o:`person`{personID:'\" + value2 +\"'}) merge (s)-[:call]->(o) return 1\")\n",
    "        return 1\n",
    "    else:return -1    \n",
    "createCall(value1,value2)"
   ]
  },
  {
   "cell_type": "code",
   "execution_count": 252,
   "metadata": {},
   "outputs": [
    {
     "data": {
      "text/plain": [
       "<py2neo.database.Cursor at 0x207aef8a988>"
      ]
     },
     "execution_count": 252,
     "metadata": {},
     "output_type": "execute_result"
    }
   ],
   "source": [
    "data = {'address':'广州','age':27,'flag':0,'name':'name_1','personID':'kane'}\n",
    "cql = ''\n",
    "for e in data:\n",
    "    cache = \" set a.\"+e+\"='\"+str(data[e])+\"'\"\n",
    "    cql += cache\n",
    "cql = \"match(a:person{personID:'\"+data['personID']+\"'})\" + cache\n",
    "cql = \"create(a:person)\" + cache\n",
    "graph.run(cql)"
   ]
  },
  {
   "cell_type": "code",
   "execution_count": 267,
   "metadata": {},
   "outputs": [
    {
     "data": {
      "text/plain": [
       "1"
      ]
     },
     "execution_count": 267,
     "metadata": {},
     "output_type": "execute_result"
    }
   ],
   "source": [
    "def personCU(data, mode='UPDATE'):\n",
    "    try:\n",
    "        # CQL: SET\n",
    "        cache = ''\n",
    "        for e in data:\n",
    "            cache += \" set a.\"+e+\"='\"+str(data[e])+\"'\"\n",
    "        if mode=='UPDATE':\n",
    "            if len(graph.run(\"match(a:person{personID:'\"+data['personID']+\"'}) return a\").data())>0:\n",
    "                graph.run(\"match(a:person{personID:'\"+data['personID']+\"'})\" + cache)\n",
    "                return 1\n",
    "            return -1\n",
    "        elif mode=='CREATE':\n",
    "            # 不存在才创建\n",
    "            if len(graph.run(\"match(a:person{personID:'\"+data['personID']+\"'}) return a\").data())==0:\n",
    "                graph.run(\"create(a:person)\" + cache)\n",
    "                return 1\n",
    "            return -1\n",
    "        else: return -1\n",
    "    except: return -1\n",
    "    \n",
    "data = {'address':'广州','age':27,'flag':0,'name':'name_1','personID':'jeanne'}\n",
    "personCU(data=data,mode='CREATE')"
   ]
  },
  {
   "cell_type": "code",
   "execution_count": 235,
   "metadata": {},
   "outputs": [
    {
     "name": "stdout",
     "output_type": "stream",
     "text": [
      "1\n"
     ]
    }
   ],
   "source": [
    "a = [0]\n",
    "try:\n",
    "    if a[0] == 0:\n",
    "        print(1)\n",
    "except:\n",
    "    print(-1)"
   ]
  },
  {
   "cell_type": "code",
   "execution_count": 268,
   "metadata": {},
   "outputs": [
    {
     "data": {
      "text/plain": [
       "{'status': 'CLEAR', 'txID': 'tx_1t'}"
      ]
     },
     "execution_count": 268,
     "metadata": {},
     "output_type": "execute_result"
    }
   ],
   "source": [
    "def txCU(data, mode='UPDATE'):\n",
    "    try:\n",
    "        # CQL: SET\n",
    "        cache = ''\n",
    "        for e in data:\n",
    "            cache += \" set a.\"+e+\"='\"+str(data[e])+\"'\"\n",
    "        if mode=='UPDATE':\n",
    "            if len(graph.run(\"match(a:transaction{txID:'\"+data['txID']+\"'}) return a\").data())>0:\n",
    "                graph.run(\"match(a:transaction{txID:'\"+data['txID']+\"'})\" + cache)\n",
    "                return 1\n",
    "            return -1\n",
    "        elif mode=='CREATE':\n",
    "            # 不存在才创建\n",
    "            if len(graph.run(\"match(a:transaction{txID:'\"+data['txID']+\"'}) return a\").data())==0:\n",
    "                graph.run(\"create(a:transaction)\" + cache)\n",
    "                return 1\n",
    "            return -1\n",
    "        else: return -1\n",
    "    except: return -1\n",
    "data = {'status':'CLEAR','txID':'tx_1t'}\n",
    "data"
   ]
  },
  {
   "cell_type": "code",
   "execution_count": 269,
   "metadata": {},
   "outputs": [
    {
     "data": {
      "text/plain": [
       "{'flag': 0, 'number': '7777', 'phone': 'phone_1t'}"
      ]
     },
     "execution_count": 269,
     "metadata": {},
     "output_type": "execute_result"
    }
   ],
   "source": [
    "def phoneCU(data, mode='UPDATE'):\n",
    "    try:\n",
    "        # CQL: SET\n",
    "        cache = ''\n",
    "        for e in data:\n",
    "            cache += \" set a.\"+e+\"='\"+str(data[e])+\"'\"\n",
    "        if mode=='UPDATE':\n",
    "            if len(graph.run(\"match(a:phone{phone:'\"+data['phone']+\"'}) return a\").data())>0:\n",
    "                graph.run(\"match(a:phone{phone:'\"+data['phone']+\"'})\" + cache)\n",
    "                return 1\n",
    "            return -1\n",
    "        elif mode=='CREATE':\n",
    "            # 不存在才创建\n",
    "            if len(graph.run(\"match(a:phone{phone:'\"+data['phone']+\"'}) return a\").data())==0:\n",
    "                graph.run(\"create(a:phone)\" + cache)\n",
    "                return 1\n",
    "            return -1\n",
    "        else: return -1\n",
    "    except: return -1\n",
    "data = {'flag':0,'number':'7777','phone':'phone_1t'}\n",
    "data"
   ]
  },
  {
   "cell_type": "markdown",
   "metadata": {},
   "source": [
    "# 生成数据前置func"
   ]
  },
  {
   "cell_type": "code",
   "execution_count": 111,
   "metadata": {},
   "outputs": [
    {
     "data": {
      "text/plain": [
       "200005"
      ]
     },
     "execution_count": 111,
     "metadata": {},
     "output_type": "execute_result"
    }
   ],
   "source": [
    "value = 'person_1'\n",
    "userEntity = graph.run(\"match (s:`person`)  return s.personID,s.flag,s.status\").data()\n",
    "len(userEntity)"
   ]
  },
  {
   "cell_type": "code",
   "execution_count": 102,
   "metadata": {},
   "outputs": [],
   "source": [
    "def userInfo(value):\n",
    "    return graph.run(\"match (s:`person`) where s.personID= '{}' return s.flag,s.status\".format(value)).data()\n",
    "\n",
    "def network1FlagNum(value):\n",
    "    return len(graph.run(\"match (s:`person`)-[p]-(o:`person`) where type(p) in ['PARENT_OF','ACKNOWLEDGE','COLLEAGUE_OF'] and o.flag='1' and s.personID= '{}' return o.personID\".format(value)).data())\n",
    "\n",
    "def network2FlagNum(value):\n",
    "    return len(graph.run(\"match (s:`person`)-[p]-(:`person`)-[q]-(o:`person`) where type(p) in ['PARENT_OF','ACKNOWLEDGE','COLLEAGUE_OF'] and type(q) in ['PARENT_OF','ACKNOWLEDGE','COLLEAGUE_OF'] and o.flag='1' and s.personID= '{}' return o.personID\".format(value)).data())\n",
    "\n",
    "def userPhoneNum(value):\n",
    "    return len(graph.run(\"match (s:`person`)-[p:`ownPhone`]-(o:`phone`) where s.personID= '{}' return o.phone\".format(value)).data())\n",
    "\n",
    "def userRmtNum(value):\n",
    "    # 交易金额大于4000才计数\n",
    "    cache = graph.run(\"match (s:`person`)-[p:`remittance`]-(o:`person`) where s.personID= '{}' return p.amount\".format(value)).data()\n",
    "    return len([i['p.amount'] for i in cache if int(i['p.amount'])>=4000])\n",
    "\n",
    "def userTxConditionNum(value):\n",
    "    defaultNum = len(graph.run(\"match (s:`person`)-[p:`apply`]-(o:`transaction`) where o.status='OVER_DUE' and s.personID= '{}' return o.status\".format(value)).data())\n",
    "    clearNum = len(graph.run(\"match (s:`person`)-[p:`apply`]-(o:`transaction`) where o.status='CLEAR' and s.personID= '{}' return o.status\".format(value)).data())\n",
    "    rejectedNum = len(graph.run(\"match (s:`person`)-[p:`apply`]-(o:`transaction`) where o.status='REJECT' and s.personID= '{}' return o.status\".format(value)).data())\n",
    "    return defaultNum,clearNum,rejectedNum\n"
   ]
  },
  {
   "cell_type": "markdown",
   "metadata": {},
   "source": [
    "# 生成数据"
   ]
  },
  {
   "cell_type": "code",
   "execution_count": 112,
   "metadata": {},
   "outputs": [],
   "source": [
    "userID = []\n",
    "userFlag = []\n",
    "userStatus =[]\n",
    "# 所有用户状态\n",
    "userEntity = graph.run(\"match (s:`person`)  return s.personID,s.flag,s.status\").data()\n",
    "for i in userEntity:\n",
    "    userID.append(i['s.personID'])\n",
    "    userFlag.append(i['s.flag'])\n",
    "    userStatus.append(i['s.status'])"
   ]
  },
  {
   "cell_type": "code",
   "execution_count": 113,
   "metadata": {},
   "outputs": [
    {
     "name": "stdout",
     "output_type": "stream",
     "text": [
      "0\n",
      "50\n",
      "100\n",
      "150\n",
      "200\n",
      "250\n",
      "300\n",
      "350\n",
      "400\n",
      "450\n",
      "500\n",
      "550\n",
      "600\n",
      "650\n",
      "700\n",
      "750\n",
      "800\n",
      "850\n",
      "900\n",
      "950\n",
      "1000\n",
      "1050\n",
      "1100\n",
      "1150\n",
      "1200\n",
      "1250\n",
      "1300\n",
      "1350\n",
      "1400\n",
      "1450\n",
      "1500\n",
      "1550\n",
      "1600\n",
      "1650\n",
      "1700\n",
      "1750\n",
      "1800\n",
      "1850\n",
      "1900\n",
      "1950\n",
      "2000\n",
      "2050\n",
      "2100\n",
      "2150\n",
      "2200\n",
      "2250\n",
      "2300\n",
      "2350\n",
      "2400\n",
      "2450\n",
      "2500\n",
      "2550\n",
      "2600\n",
      "2650\n",
      "2700\n",
      "2750\n",
      "2800\n",
      "2850\n",
      "2900\n",
      "2950\n",
      "3000\n",
      "3050\n",
      "3100\n",
      "3150\n",
      "3200\n",
      "3250\n",
      "3300\n",
      "3350\n",
      "3400\n",
      "3450\n",
      "3500\n",
      "3550\n",
      "3600\n",
      "3650\n",
      "3700\n",
      "3750\n",
      "3800\n",
      "3850\n",
      "3900\n",
      "3950\n",
      "4000\n",
      "4050\n",
      "4100\n",
      "4150\n",
      "4200\n",
      "4250\n",
      "4300\n",
      "4350\n",
      "4400\n",
      "4450\n",
      "4500\n",
      "4550\n",
      "4600\n",
      "4650\n",
      "4700\n",
      "4750\n",
      "4800\n",
      "4850\n",
      "4900\n",
      "4950\n",
      "5000\n",
      "5050\n",
      "5100\n",
      "5150\n",
      "5200\n",
      "5250\n",
      "5300\n",
      "5350\n",
      "5400\n",
      "5450\n",
      "5500\n",
      "5550\n",
      "5600\n",
      "5650\n",
      "5700\n",
      "5750\n",
      "5800\n",
      "5850\n",
      "5900\n",
      "5950\n",
      "6000\n",
      "6050\n",
      "6100\n",
      "6150\n",
      "6200\n",
      "6250\n",
      "6300\n",
      "6350\n",
      "6400\n",
      "6450\n",
      "6500\n",
      "6550\n",
      "6600\n",
      "6650\n",
      "6700\n",
      "6750\n",
      "6800\n",
      "6850\n",
      "6900\n",
      "6950\n",
      "7000\n",
      "7050\n",
      "7100\n",
      "7150\n",
      "7200\n",
      "7250\n",
      "7300\n",
      "7350\n",
      "7400\n",
      "7450\n",
      "7500\n",
      "7550\n",
      "7600\n",
      "7650\n",
      "7700\n",
      "7750\n",
      "7800\n",
      "7850\n",
      "7900\n",
      "7950\n",
      "8000\n",
      "8050\n",
      "8100\n",
      "8150\n",
      "8200\n",
      "8250\n",
      "8300\n",
      "8350\n",
      "8400\n",
      "8450\n",
      "8500\n",
      "8550\n",
      "8600\n",
      "8650\n",
      "8700\n",
      "8750\n",
      "8800\n",
      "8850\n",
      "8900\n",
      "8950\n",
      "9000\n",
      "9050\n",
      "9100\n",
      "9150\n",
      "9200\n",
      "9250\n",
      "9300\n",
      "9350\n",
      "9400\n",
      "9450\n",
      "9500\n",
      "9550\n",
      "9600\n",
      "9650\n",
      "9700\n",
      "9750\n",
      "9800\n",
      "9850\n",
      "9900\n",
      "9950\n"
     ]
    }
   ],
   "source": [
    "n1Num = []\n",
    "n2Num = []\n",
    "phoneNum = []\n",
    "rmtNum = []\n",
    "txdNum = []\n",
    "txcNum = []\n",
    "txrNum = []\n",
    "i = 0\n",
    "for value in userID[:10000]:\n",
    "    i+=1\n",
    "    n1Num.append(network1FlagNum(value=value))\n",
    "    n2Num.append(network2FlagNum(value=value))\n",
    "    phoneNum.append(userPhoneNum(value=value))\n",
    "    rmtNum.append(userRmtNum(value=value))\n",
    "    c1,c2,c3 = userTxConditionNum(value=value)\n",
    "    txdNum.append(c1)\n",
    "    txcNum.append(c2)\n",
    "    txrNum.append(c3)\n",
    "    if i%50 == 0:\n",
    "        print(i)"
   ]
  },
  {
   "cell_type": "code",
   "execution_count": 117,
   "metadata": {},
   "outputs": [
    {
     "data": {
      "text/html": [
       "<div>\n",
       "<style scoped>\n",
       "    .dataframe tbody tr th:only-of-type {\n",
       "        vertical-align: middle;\n",
       "    }\n",
       "\n",
       "    .dataframe tbody tr th {\n",
       "        vertical-align: top;\n",
       "    }\n",
       "\n",
       "    .dataframe thead th {\n",
       "        text-align: right;\n",
       "    }\n",
       "</style>\n",
       "<table border=\"1\" class=\"dataframe\">\n",
       "  <thead>\n",
       "    <tr style=\"text-align: right;\">\n",
       "      <th></th>\n",
       "      <th>userID</th>\n",
       "      <th>是否在黑名单</th>\n",
       "      <th>历史用户评分</th>\n",
       "      <th>一层关系黑户数</th>\n",
       "      <th>二层关系黑户数</th>\n",
       "      <th>持有手机数</th>\n",
       "      <th>大额转账数</th>\n",
       "      <th>违约贷款数</th>\n",
       "      <th>完结贷款数</th>\n",
       "      <th>被拒贷款数</th>\n",
       "    </tr>\n",
       "  </thead>\n",
       "  <tbody>\n",
       "    <tr>\n",
       "      <td>0</td>\n",
       "      <td>person_1</td>\n",
       "      <td>0</td>\n",
       "      <td>AA</td>\n",
       "      <td>0</td>\n",
       "      <td>0</td>\n",
       "      <td>1</td>\n",
       "      <td>7</td>\n",
       "      <td>1</td>\n",
       "      <td>1</td>\n",
       "      <td>0</td>\n",
       "    </tr>\n",
       "    <tr>\n",
       "      <td>1</td>\n",
       "      <td>person_2</td>\n",
       "      <td>0</td>\n",
       "      <td>A</td>\n",
       "      <td>0</td>\n",
       "      <td>0</td>\n",
       "      <td>1</td>\n",
       "      <td>3</td>\n",
       "      <td>1</td>\n",
       "      <td>0</td>\n",
       "      <td>0</td>\n",
       "    </tr>\n",
       "    <tr>\n",
       "      <td>2</td>\n",
       "      <td>person_3</td>\n",
       "      <td>0</td>\n",
       "      <td>A</td>\n",
       "      <td>0</td>\n",
       "      <td>0</td>\n",
       "      <td>1</td>\n",
       "      <td>1</td>\n",
       "      <td>0</td>\n",
       "      <td>0</td>\n",
       "      <td>1</td>\n",
       "    </tr>\n",
       "    <tr>\n",
       "      <td>3</td>\n",
       "      <td>person_4</td>\n",
       "      <td>0</td>\n",
       "      <td>AA</td>\n",
       "      <td>0</td>\n",
       "      <td>0</td>\n",
       "      <td>1</td>\n",
       "      <td>4</td>\n",
       "      <td>0</td>\n",
       "      <td>1</td>\n",
       "      <td>0</td>\n",
       "    </tr>\n",
       "    <tr>\n",
       "      <td>4</td>\n",
       "      <td>person_5</td>\n",
       "      <td>0</td>\n",
       "      <td>C</td>\n",
       "      <td>0</td>\n",
       "      <td>0</td>\n",
       "      <td>1</td>\n",
       "      <td>2</td>\n",
       "      <td>1</td>\n",
       "      <td>0</td>\n",
       "      <td>0</td>\n",
       "    </tr>\n",
       "    <tr>\n",
       "      <td>...</td>\n",
       "      <td>...</td>\n",
       "      <td>...</td>\n",
       "      <td>...</td>\n",
       "      <td>...</td>\n",
       "      <td>...</td>\n",
       "      <td>...</td>\n",
       "      <td>...</td>\n",
       "      <td>...</td>\n",
       "      <td>...</td>\n",
       "      <td>...</td>\n",
       "    </tr>\n",
       "    <tr>\n",
       "      <td>9995</td>\n",
       "      <td>person_102461</td>\n",
       "      <td>0</td>\n",
       "      <td>AA</td>\n",
       "      <td>0</td>\n",
       "      <td>0</td>\n",
       "      <td>1</td>\n",
       "      <td>4</td>\n",
       "      <td>1</td>\n",
       "      <td>1</td>\n",
       "      <td>0</td>\n",
       "    </tr>\n",
       "    <tr>\n",
       "      <td>9996</td>\n",
       "      <td>person_102462</td>\n",
       "      <td>0</td>\n",
       "      <td>A</td>\n",
       "      <td>0</td>\n",
       "      <td>0</td>\n",
       "      <td>1</td>\n",
       "      <td>3</td>\n",
       "      <td>1</td>\n",
       "      <td>0</td>\n",
       "      <td>0</td>\n",
       "    </tr>\n",
       "    <tr>\n",
       "      <td>9997</td>\n",
       "      <td>person_102463</td>\n",
       "      <td>0</td>\n",
       "      <td>A</td>\n",
       "      <td>0</td>\n",
       "      <td>0</td>\n",
       "      <td>1</td>\n",
       "      <td>4</td>\n",
       "      <td>0</td>\n",
       "      <td>0</td>\n",
       "      <td>1</td>\n",
       "    </tr>\n",
       "    <tr>\n",
       "      <td>9998</td>\n",
       "      <td>person_102464</td>\n",
       "      <td>0</td>\n",
       "      <td>AA</td>\n",
       "      <td>0</td>\n",
       "      <td>0</td>\n",
       "      <td>1</td>\n",
       "      <td>1</td>\n",
       "      <td>0</td>\n",
       "      <td>1</td>\n",
       "      <td>0</td>\n",
       "    </tr>\n",
       "    <tr>\n",
       "      <td>9999</td>\n",
       "      <td>person_102465</td>\n",
       "      <td>0</td>\n",
       "      <td>C</td>\n",
       "      <td>0</td>\n",
       "      <td>0</td>\n",
       "      <td>1</td>\n",
       "      <td>6</td>\n",
       "      <td>1</td>\n",
       "      <td>0</td>\n",
       "      <td>0</td>\n",
       "    </tr>\n",
       "  </tbody>\n",
       "</table>\n",
       "<p>10000 rows × 10 columns</p>\n",
       "</div>"
      ],
      "text/plain": [
       "             userID 是否在黑名单 历史用户评分  一层关系黑户数  二层关系黑户数  持有手机数  大额转账数  违约贷款数  \\\n",
       "0          person_1      0     AA        0        0      1      7      1   \n",
       "1          person_2      0      A        0        0      1      3      1   \n",
       "2          person_3      0      A        0        0      1      1      0   \n",
       "3          person_4      0     AA        0        0      1      4      0   \n",
       "4          person_5      0      C        0        0      1      2      1   \n",
       "...             ...    ...    ...      ...      ...    ...    ...    ...   \n",
       "9995  person_102461      0     AA        0        0      1      4      1   \n",
       "9996  person_102462      0      A        0        0      1      3      1   \n",
       "9997  person_102463      0      A        0        0      1      4      0   \n",
       "9998  person_102464      0     AA        0        0      1      1      0   \n",
       "9999  person_102465      0      C        0        0      1      6      1   \n",
       "\n",
       "      完结贷款数  被拒贷款数  \n",
       "0         1      0  \n",
       "1         0      0  \n",
       "2         0      1  \n",
       "3         1      0  \n",
       "4         0      0  \n",
       "...     ...    ...  \n",
       "9995      1      0  \n",
       "9996      0      0  \n",
       "9997      0      1  \n",
       "9998      1      0  \n",
       "9999      0      0  \n",
       "\n",
       "[10000 rows x 10 columns]"
      ]
     },
     "execution_count": 117,
     "metadata": {},
     "output_type": "execute_result"
    }
   ],
   "source": [
    "import pandas as pd\n",
    "df = pd.DataFrame()\n",
    "df['userID'] = userID[:10000]\n",
    "df['是否在黑名单'] = userFlag[:10000]\n",
    "df['历史用户评分'] = userStatus[:10000]\n",
    "df['一层关系黑户数'] = n1Num\n",
    "df['二层关系黑户数'] = n2Num\n",
    "df['持有手机数'] = phoneNum\n",
    "df['大额转账数'] = rmtNum\n",
    "df['违约贷款数'] = txdNum\n",
    "df['完结贷款数'] = txcNum\n",
    "df['被拒贷款数'] = txrNum\n",
    "df"
   ]
  },
  {
   "cell_type": "code",
   "execution_count": 118,
   "metadata": {},
   "outputs": [],
   "source": [
    "# df.to_csv(r'out/graphOut.csv', encoding='utf-8', index=False)"
   ]
  },
  {
   "cell_type": "code",
   "execution_count": 124,
   "metadata": {},
   "outputs": [
    {
     "data": {
      "text/html": [
       "<div>\n",
       "<style scoped>\n",
       "    .dataframe tbody tr th:only-of-type {\n",
       "        vertical-align: middle;\n",
       "    }\n",
       "\n",
       "    .dataframe tbody tr th {\n",
       "        vertical-align: top;\n",
       "    }\n",
       "\n",
       "    .dataframe thead th {\n",
       "        text-align: right;\n",
       "    }\n",
       "</style>\n",
       "<table border=\"1\" class=\"dataframe\">\n",
       "  <thead>\n",
       "    <tr style=\"text-align: right;\">\n",
       "      <th></th>\n",
       "      <th>userID</th>\n",
       "      <th>是否在黑名单</th>\n",
       "      <th>历史用户评分</th>\n",
       "      <th>一层关系黑户数</th>\n",
       "      <th>二层关系黑户数</th>\n",
       "      <th>持有手机数</th>\n",
       "      <th>大额转账数</th>\n",
       "      <th>违约贷款数</th>\n",
       "      <th>完结贷款数</th>\n",
       "      <th>被拒贷款数</th>\n",
       "    </tr>\n",
       "  </thead>\n",
       "  <tbody>\n",
       "    <tr>\n",
       "      <td>0</td>\n",
       "      <td>person_1</td>\n",
       "      <td>0</td>\n",
       "      <td>AA</td>\n",
       "      <td>0</td>\n",
       "      <td>0</td>\n",
       "      <td>1</td>\n",
       "      <td>7</td>\n",
       "      <td>1</td>\n",
       "      <td>1</td>\n",
       "      <td>0</td>\n",
       "    </tr>\n",
       "    <tr>\n",
       "      <td>1</td>\n",
       "      <td>person_2</td>\n",
       "      <td>0</td>\n",
       "      <td>A</td>\n",
       "      <td>0</td>\n",
       "      <td>0</td>\n",
       "      <td>1</td>\n",
       "      <td>3</td>\n",
       "      <td>1</td>\n",
       "      <td>0</td>\n",
       "      <td>0</td>\n",
       "    </tr>\n",
       "    <tr>\n",
       "      <td>2</td>\n",
       "      <td>person_3</td>\n",
       "      <td>0</td>\n",
       "      <td>A</td>\n",
       "      <td>0</td>\n",
       "      <td>0</td>\n",
       "      <td>1</td>\n",
       "      <td>1</td>\n",
       "      <td>0</td>\n",
       "      <td>0</td>\n",
       "      <td>1</td>\n",
       "    </tr>\n",
       "    <tr>\n",
       "      <td>3</td>\n",
       "      <td>person_4</td>\n",
       "      <td>0</td>\n",
       "      <td>AA</td>\n",
       "      <td>0</td>\n",
       "      <td>0</td>\n",
       "      <td>1</td>\n",
       "      <td>4</td>\n",
       "      <td>0</td>\n",
       "      <td>1</td>\n",
       "      <td>0</td>\n",
       "    </tr>\n",
       "    <tr>\n",
       "      <td>4</td>\n",
       "      <td>person_5</td>\n",
       "      <td>0</td>\n",
       "      <td>C</td>\n",
       "      <td>0</td>\n",
       "      <td>0</td>\n",
       "      <td>1</td>\n",
       "      <td>2</td>\n",
       "      <td>1</td>\n",
       "      <td>0</td>\n",
       "      <td>0</td>\n",
       "    </tr>\n",
       "    <tr>\n",
       "      <td>...</td>\n",
       "      <td>...</td>\n",
       "      <td>...</td>\n",
       "      <td>...</td>\n",
       "      <td>...</td>\n",
       "      <td>...</td>\n",
       "      <td>...</td>\n",
       "      <td>...</td>\n",
       "      <td>...</td>\n",
       "      <td>...</td>\n",
       "      <td>...</td>\n",
       "    </tr>\n",
       "    <tr>\n",
       "      <td>1995</td>\n",
       "      <td>person_194513</td>\n",
       "      <td>0</td>\n",
       "      <td>A</td>\n",
       "      <td>0</td>\n",
       "      <td>0</td>\n",
       "      <td>1</td>\n",
       "      <td>0</td>\n",
       "      <td>0</td>\n",
       "      <td>1</td>\n",
       "      <td>0</td>\n",
       "    </tr>\n",
       "    <tr>\n",
       "      <td>1996</td>\n",
       "      <td>person_194514</td>\n",
       "      <td>0</td>\n",
       "      <td>A</td>\n",
       "      <td>1</td>\n",
       "      <td>0</td>\n",
       "      <td>1</td>\n",
       "      <td>2</td>\n",
       "      <td>0</td>\n",
       "      <td>0</td>\n",
       "      <td>0</td>\n",
       "    </tr>\n",
       "    <tr>\n",
       "      <td>1997</td>\n",
       "      <td>person_194515</td>\n",
       "      <td>1</td>\n",
       "      <td>D</td>\n",
       "      <td>0</td>\n",
       "      <td>0</td>\n",
       "      <td>1</td>\n",
       "      <td>6</td>\n",
       "      <td>0</td>\n",
       "      <td>1</td>\n",
       "      <td>0</td>\n",
       "    </tr>\n",
       "    <tr>\n",
       "      <td>1998</td>\n",
       "      <td>person_194516</td>\n",
       "      <td>0</td>\n",
       "      <td>A</td>\n",
       "      <td>0</td>\n",
       "      <td>1</td>\n",
       "      <td>1</td>\n",
       "      <td>2</td>\n",
       "      <td>0</td>\n",
       "      <td>0</td>\n",
       "      <td>1</td>\n",
       "    </tr>\n",
       "    <tr>\n",
       "      <td>1999</td>\n",
       "      <td>person_194517</td>\n",
       "      <td>0</td>\n",
       "      <td>AA</td>\n",
       "      <td>0</td>\n",
       "      <td>0</td>\n",
       "      <td>1</td>\n",
       "      <td>2</td>\n",
       "      <td>1</td>\n",
       "      <td>0</td>\n",
       "      <td>0</td>\n",
       "    </tr>\n",
       "  </tbody>\n",
       "</table>\n",
       "<p>2000 rows × 10 columns</p>\n",
       "</div>"
      ],
      "text/plain": [
       "             userID  是否在黑名单 历史用户评分  一层关系黑户数  二层关系黑户数  持有手机数  大额转账数  违约贷款数  \\\n",
       "0          person_1       0     AA        0        0      1      7      1   \n",
       "1          person_2       0      A        0        0      1      3      1   \n",
       "2          person_3       0      A        0        0      1      1      0   \n",
       "3          person_4       0     AA        0        0      1      4      0   \n",
       "4          person_5       0      C        0        0      1      2      1   \n",
       "...             ...     ...    ...      ...      ...    ...    ...    ...   \n",
       "1995  person_194513       0      A        0        0      1      0      0   \n",
       "1996  person_194514       0      A        1        0      1      2      0   \n",
       "1997  person_194515       1      D        0        0      1      6      0   \n",
       "1998  person_194516       0      A        0        1      1      2      0   \n",
       "1999  person_194517       0     AA        0        0      1      2      1   \n",
       "\n",
       "      完结贷款数  被拒贷款数  \n",
       "0         1      0  \n",
       "1         0      0  \n",
       "2         0      1  \n",
       "3         1      0  \n",
       "4         0      0  \n",
       "...     ...    ...  \n",
       "1995      1      0  \n",
       "1996      0      0  \n",
       "1997      1      0  \n",
       "1998      0      1  \n",
       "1999      0      0  \n",
       "\n",
       "[2000 rows x 10 columns]"
      ]
     },
     "execution_count": 124,
     "metadata": {},
     "output_type": "execute_result"
    }
   ],
   "source": [
    "df1=pd.read_csv(r'out/graphOut.csv', encoding='utf-8')\n",
    "df1[:2000]"
   ]
  },
  {
   "cell_type": "markdown",
   "metadata": {},
   "source": [
    "# func test"
   ]
  },
  {
   "cell_type": "code",
   "execution_count": 53,
   "metadata": {},
   "outputs": [
    {
     "data": {
      "text/plain": [
       "1"
      ]
     },
     "execution_count": 53,
     "metadata": {},
     "output_type": "execute_result"
    }
   ],
   "source": [
    "def network1FlagNum(value):\n",
    "    return len(graph.run(\"match (s:`person`)-[p]-(o:`person`) where type(p) in ['PARENT_OF','ACKNOWLEDGE','COLLEAGUE_OF'] and o.flag='1' and s.personID= '{}' return o.personID\".format(value)).data())\n",
    "\n",
    "value = 'person_14'\n",
    "network1FlagNum(value)"
   ]
  },
  {
   "cell_type": "code",
   "execution_count": 51,
   "metadata": {},
   "outputs": [
    {
     "data": {
      "text/plain": [
       "1"
      ]
     },
     "execution_count": 51,
     "metadata": {},
     "output_type": "execute_result"
    }
   ],
   "source": [
    "def network2FlagNum(value):\n",
    "    return len(graph.run(\"match (s:`person`)-[p]-(:`person`)-[q]-(o:`person`) where type(p) in ['PARENT_OF','ACKNOWLEDGE','COLLEAGUE_OF'] and type(q) in ['PARENT_OF','ACKNOWLEDGE','COLLEAGUE_OF'] and o.flag='1' and s.personID= '{}' return o.personID\".format(value)).data())\n",
    "value = 'person_16'\n",
    "network2FlagNum(value)"
   ]
  },
  {
   "cell_type": "code",
   "execution_count": 66,
   "metadata": {},
   "outputs": [
    {
     "data": {
      "text/plain": [
       "1"
      ]
     },
     "execution_count": 66,
     "metadata": {},
     "output_type": "execute_result"
    }
   ],
   "source": [
    "def userPhoneNum(value):\n",
    "    return len(graph.run(\"match (s:`person`)-[p:`ownPhone`]-(o:`phone`) where s.personID= '{}' return o.phone\".format(value)).data())\n",
    "userPhoneNum(value='person_333')"
   ]
  },
  {
   "cell_type": "code",
   "execution_count": 81,
   "metadata": {},
   "outputs": [
    {
     "data": {
      "text/plain": [
       "4"
      ]
     },
     "execution_count": 81,
     "metadata": {},
     "output_type": "execute_result"
    }
   ],
   "source": [
    "value='person_14'\n",
    "def userRmtNum(value):\n",
    "    # 交易金额大于4000才计数\n",
    "    cache = graph.run(\"match (s:`person`)-[p:`remittance`]-(o:`person`) where s.personID= '{}' return p.amount\".format(value)).data()\n",
    "    return len([i['p.amount'] for i in cache if int(i['p.amount'])>=4000])\n",
    "\n",
    "userRmtNum(value)"
   ]
  },
  {
   "cell_type": "code",
   "execution_count": 94,
   "metadata": {},
   "outputs": [
    {
     "data": {
      "text/plain": [
       "(1, 1, 0)"
      ]
     },
     "execution_count": 94,
     "metadata": {},
     "output_type": "execute_result"
    }
   ],
   "source": [
    "value='person_1'\n",
    "def userTxConditionNum(value):\n",
    "    defaultNum = len(graph.run(\"match (s:`person`)-[p:`apply`]-(o:`transaction`) where o.status='OVER_DUE' and s.personID= '{}' return o.status\".format(value)).data())\n",
    "    clearNum = len(graph.run(\"match (s:`person`)-[p:`apply`]-(o:`transaction`) where o.status='CLEAR' and s.personID= '{}' return o.status\".format(value)).data())\n",
    "    rejectedNum = len(graph.run(\"match (s:`person`)-[p:`apply`]-(o:`transaction`) where o.status='REJECT' and s.personID= '{}' return o.status\".format(value)).data())\n",
    "    return defaultNum,clearNum,rejectedNum\n",
    "\n",
    "userTxConditionNum(value)"
   ]
  },
  {
   "cell_type": "code",
   "execution_count": 93,
   "metadata": {},
   "outputs": [
    {
     "data": {
      "text/plain": [
       "[{'o.status': 'CLEAR'}]"
      ]
     },
     "execution_count": 93,
     "metadata": {},
     "output_type": "execute_result"
    }
   ],
   "source": [
    "value = 'person_15'\n",
    "graph.run(\"match (s:`person`)-[p:`apply`]-(o:`transaction`) where o.status='CLEAR' and s.personID= '{}' return o.status\".format(value)).data()\n"
   ]
  },
  {
   "cell_type": "code",
   "execution_count": 91,
   "metadata": {},
   "outputs": [
    {
     "data": {
      "text/plain": [
       "[{'o.status': 'REJECT'}]"
      ]
     },
     "execution_count": 91,
     "metadata": {},
     "output_type": "execute_result"
    }
   ],
   "source": [
    "value = 'person_20'\n",
    "graph.run(\"match (s:`person`)-[p:`apply`]-(o:`transaction`) where o.status='REJECT' and s.personID= '{}' return o.status\".format(value)).data()\n"
   ]
  },
  {
   "cell_type": "code",
   "execution_count": null,
   "metadata": {},
   "outputs": [],
   "source": []
  }
 ],
 "metadata": {
  "kernelspec": {
   "display_name": "Python 3",
   "language": "python",
   "name": "python3"
  },
  "language_info": {
   "codemirror_mode": {
    "name": "ipython",
    "version": 3
   },
   "file_extension": ".py",
   "mimetype": "text/x-python",
   "name": "python",
   "nbconvert_exporter": "python",
   "pygments_lexer": "ipython3",
   "version": "3.7.4"
  }
 },
 "nbformat": 4,
 "nbformat_minor": 2
}
